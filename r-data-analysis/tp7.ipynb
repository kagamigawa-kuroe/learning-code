{
 "cells": [
  {
   "cell_type": "code",
   "execution_count": 5,
   "metadata": {},
   "outputs": [
    {
     "data": {
      "text/plain": [
       "\n",
       "\tPaired t-test\n",
       "\n",
       "data:  y1 and y2\n",
       "t = 3.324, df = 29, p-value = 0.002413\n",
       "alternative hypothesis: true difference in means is not equal to 0\n",
       "95 percent confidence interval:\n",
       "  6.121954 25.704713\n",
       "sample estimates:\n",
       "mean of the differences \n",
       "               15.91333 \n"
      ]
     },
     "metadata": {},
     "output_type": "display_data"
    }
   ],
   "source": [
    "#1\n",
    "library(\"MASS\")\n",
    "donne = immer\n",
    "y1 = immer$Y1\n",
    "y2 = immer$Y2\n",
    "t.test(y1,y2,paired=TRUE)"
   ]
  },
  {
   "cell_type": "code",
   "execution_count": 34,
   "metadata": {},
   "outputs": [
    {
     "data": {
      "text/plain": [
       "\n",
       "\t1-sample proportions test with continuity correction\n",
       "\n",
       "data:  pp$grand out of n, null probability 0.5\n",
       "X-squared = 9.6333, df = 1, p-value = 0.001911\n",
       "alternative hypothesis: true p is not equal to 0.5\n",
       "95 percent confidence interval:\n",
       " 0.6086926 0.9159524\n",
       "sample estimates:\n",
       "  p \n",
       "0.8 \n"
      ]
     },
     "metadata": {},
     "output_type": "display_data"
    }
   ],
   "source": [
    "#2\n",
    "c = y1 - y2\n",
    "n = length(c)\n",
    "x = c > 0\n",
    "grand = sum(x)\n",
    "less = n - grand\n",
    "pp = data.frame(grand,less)\n",
    "prop.test(pp$grand,n,0.5)"
   ]
  },
  {
   "cell_type": "markdown",
   "metadata": {},
   "source": []
  },
  {
   "cell_type": "markdown",
   "metadata": {},
   "source": [
    "------\n"
   ]
  },
  {
   "cell_type": "code",
   "execution_count": 36,
   "metadata": {},
   "outputs": [
    {
     "data": {
      "text/plain": [
       "\n",
       "\tF test to compare two variances\n",
       "\n",
       "data:  a and b\n",
       "F = 0.94739, num df = 9, denom df = 9, p-value = 0.9372\n",
       "alternative hypothesis: true ratio of variances is not equal to 1\n",
       "95 percent confidence interval:\n",
       " 0.2353191 3.8142000\n",
       "sample estimates:\n",
       "ratio of variances \n",
       "         0.9473933 \n"
      ]
     },
     "metadata": {},
     "output_type": "display_data"
    }
   ],
   "source": [
    "#3\n",
    "donne = shoes\n",
    "a = donne$A\n",
    "b = donne$B\n",
    "\n",
    "var.test(a,b)"
   ]
  },
  {
   "cell_type": "code",
   "execution_count": 38,
   "metadata": {},
   "outputs": [
    {
     "data": {
      "text/plain": [
       "\n",
       "\tPaired t-test\n",
       "\n",
       "data:  shoes$A and shoes$B\n",
       "t = -3.3489, df = 9, p-value = 0.008539\n",
       "alternative hypothesis: true difference in means is not equal to 0\n",
       "95 percent confidence interval:\n",
       " -0.6869539 -0.1330461\n",
       "sample estimates:\n",
       "mean of the differences \n",
       "                  -0.41 \n"
      ]
     },
     "metadata": {},
     "output_type": "display_data"
    }
   ],
   "source": [
    "#4\n",
    "t.test(shoes$A,shoes$B,paired=TRUE,var.equal=TRUE)"
   ]
  },
  {
   "cell_type": "code",
   "execution_count": 41,
   "metadata": {},
   "outputs": [
    {
     "data": {
      "text/plain": [
       "\n",
       "\tShapiro-Wilk normality test\n",
       "\n",
       "data:  donne\n",
       "W = 0.87177, p-value = 7.302e-07\n"
      ]
     },
     "metadata": {},
     "output_type": "display_data"
    }
   ],
   "source": [
    "#5\n",
    "donne = galaxies\n",
    "shapiro.test(donne)"
   ]
  },
  {
   "cell_type": "code",
   "execution_count": 60,
   "metadata": {},
   "outputs": [
    {
     "data": {
      "text/plain": [
       "\n",
       "\tTwo-sample Kolmogorov-Smirnov test\n",
       "\n",
       "data:  donne and e\n",
       "D = 1, p-value = 0.00939\n",
       "alternative hypothesis: two-sided\n"
      ]
     },
     "metadata": {},
     "output_type": "display_data"
    }
   ],
   "source": [
    "#6\n",
    "donne = read.csv(\"/Users/whz/utc/2021.automne/SY02/delai-data.data\")\n",
    "lameda = colMeans(donne)\n",
    "e = rexp(length(donne),lameda)\n",
    "ks.test(donne,e)"
   ]
  },
  {
   "cell_type": "code",
   "execution_count": 61,
   "metadata": {},
   "outputs": [
    {
     "name": "stdout",
     "output_type": "stream",
     "text": [
      "\n",
      "The downloaded binary packages are in\n",
      "\t/var/folders/cn/8vhdhtd50yd2cnf2cm9nb2s40000gn/T//RtmpxofKpJ/downloaded_packages\n"
     ]
    }
   ],
   "source": [
    "#7\n",
    "install.packages(\"isdals\")"
   ]
  },
  {
   "cell_type": "code",
   "execution_count": 77,
   "metadata": {},
   "outputs": [
    {
     "data": {
      "text/plain": [
       "\n",
       "\tShapiro-Wilk normality test\n",
       "\n",
       "data:  err\n",
       "W = 0.97401, p-value = 0.8363\n"
      ]
     },
     "metadata": {},
     "output_type": "display_data"
    }
   ],
   "source": [
    "library(isdals)\n",
    "data(bodyfat)\n",
    "l = lm(formula = Fat ~ Thigh, data = bodyfat)\n",
    "Thigh = bodyfat[,3]\n",
    "fa = data.frame(fatt)\n",
    "\n",
    "p = predict(l,fa,interval=\"confidence\")\n",
    "err = p[,1]-bodyfat[,1]\n",
    "shapiro.test(err)\n",
    "#shapiro.test(l$residuals)"
   ]
  },
  {
   "cell_type": "code",
   "execution_count": 82,
   "metadata": {},
   "outputs": [
    {
     "data": {
      "text/html": [
       "<table class=\"dataframe\">\n",
       "<caption>A data.frame: 2 × 3</caption>\n",
       "<thead>\n",
       "\t<tr><th></th><th scope=col>chocolat</th><th scope=col>vanille</th><th scope=col>fraise</th></tr>\n",
       "\t<tr><th></th><th scope=col>&lt;dbl&gt;</th><th scope=col>&lt;dbl&gt;</th><th scope=col>&lt;dbl&gt;</th></tr>\n",
       "</thead>\n",
       "<tbody>\n",
       "\t<tr><th scope=row>homme</th><td>100</td><td>120</td><td>60</td></tr>\n",
       "\t<tr><th scope=row>femme</th><td>350</td><td>200</td><td>90</td></tr>\n",
       "</tbody>\n",
       "</table>\n"
      ],
      "text/latex": [
       "A data.frame: 2 × 3\n",
       "\\begin{tabular}{r|lll}\n",
       "  & chocolat & vanille & fraise\\\\\n",
       "  & <dbl> & <dbl> & <dbl>\\\\\n",
       "\\hline\n",
       "\thomme & 100 & 120 & 60\\\\\n",
       "\tfemme & 350 & 200 & 90\\\\\n",
       "\\end{tabular}\n"
      ],
      "text/markdown": [
       "\n",
       "A data.frame: 2 × 3\n",
       "\n",
       "| <!--/--> | chocolat &lt;dbl&gt; | vanille &lt;dbl&gt; | fraise &lt;dbl&gt; |\n",
       "|---|---|---|---|\n",
       "| homme | 100 | 120 | 60 |\n",
       "| femme | 350 | 200 | 90 |\n",
       "\n"
      ],
      "text/plain": [
       "      chocolat vanille fraise\n",
       "homme 100      120     60    \n",
       "femme 350      200     90    "
      ]
     },
     "metadata": {},
     "output_type": "display_data"
    }
   ],
   "source": [
    "#8\n",
    "donne = data.frame(chocolat=c(100,350),vanille=c(120,200),fraise=c(60,90),row.names=c('homme','femme'))\n",
    "donne"
   ]
  },
  {
   "cell_type": "code",
   "execution_count": 85,
   "metadata": {},
   "outputs": [],
   "source": [
    "#9\n",
    "ct = chisq.test(donne)"
   ]
  },
  {
   "cell_type": "code",
   "execution_count": 86,
   "metadata": {},
   "outputs": [
    {
     "data": {
      "text/plain": [
       "\n",
       "\tPearson's Chi-squared test\n",
       "\n",
       "data:  donne\n",
       "X-squared = 28.362, df = 2, p-value = 6.938e-07\n"
      ]
     },
     "metadata": {},
     "output_type": "display_data"
    }
   ],
   "source": [
    "#10\n",
    "ct"
   ]
  },
  {
   "cell_type": "code",
   "execution_count": 88,
   "metadata": {},
   "outputs": [
    {
     "data": {
      "text/html": [
       "<table class=\"dataframe\">\n",
       "<caption>A matrix: 2 × 3 of type dbl</caption>\n",
       "<thead>\n",
       "\t<tr><th></th><th scope=col>chocolat</th><th scope=col>vanille</th><th scope=col>fraise</th></tr>\n",
       "</thead>\n",
       "<tbody>\n",
       "\t<tr><th scope=row>homme</th><td>100</td><td>120</td><td>60</td></tr>\n",
       "\t<tr><th scope=row>femme</th><td>350</td><td>200</td><td>90</td></tr>\n",
       "</tbody>\n",
       "</table>\n"
      ],
      "text/latex": [
       "A matrix: 2 × 3 of type dbl\n",
       "\\begin{tabular}{r|lll}\n",
       "  & chocolat & vanille & fraise\\\\\n",
       "\\hline\n",
       "\thomme & 100 & 120 & 60\\\\\n",
       "\tfemme & 350 & 200 & 90\\\\\n",
       "\\end{tabular}\n"
      ],
      "text/markdown": [
       "\n",
       "A matrix: 2 × 3 of type dbl\n",
       "\n",
       "| <!--/--> | chocolat | vanille | fraise |\n",
       "|---|---|---|---|\n",
       "| homme | 100 | 120 | 60 |\n",
       "| femme | 350 | 200 | 90 |\n",
       "\n"
      ],
      "text/plain": [
       "      chocolat vanille fraise\n",
       "homme 100      120     60    \n",
       "femme 350      200     90    "
      ]
     },
     "metadata": {},
     "output_type": "display_data"
    },
    {
     "data": {
      "text/html": [
       "<table class=\"dataframe\">\n",
       "<caption>A matrix: 2 × 3 of type dbl</caption>\n",
       "<thead>\n",
       "\t<tr><th></th><th scope=col>chocolat</th><th scope=col>vanille</th><th scope=col>fraise</th></tr>\n",
       "</thead>\n",
       "<tbody>\n",
       "\t<tr><th scope=row>homme</th><td>136.9565</td><td> 97.3913</td><td> 45.65217</td></tr>\n",
       "\t<tr><th scope=row>femme</th><td>313.0435</td><td>222.6087</td><td>104.34783</td></tr>\n",
       "</tbody>\n",
       "</table>\n"
      ],
      "text/latex": [
       "A matrix: 2 × 3 of type dbl\n",
       "\\begin{tabular}{r|lll}\n",
       "  & chocolat & vanille & fraise\\\\\n",
       "\\hline\n",
       "\thomme & 136.9565 &  97.3913 &  45.65217\\\\\n",
       "\tfemme & 313.0435 & 222.6087 & 104.34783\\\\\n",
       "\\end{tabular}\n"
      ],
      "text/markdown": [
       "\n",
       "A matrix: 2 × 3 of type dbl\n",
       "\n",
       "| <!--/--> | chocolat | vanille | fraise |\n",
       "|---|---|---|---|\n",
       "| homme | 136.9565 |  97.3913 |  45.65217 |\n",
       "| femme | 313.0435 | 222.6087 | 104.34783 |\n",
       "\n"
      ],
      "text/plain": [
       "      chocolat vanille  fraise   \n",
       "homme 136.9565  97.3913  45.65217\n",
       "femme 313.0435 222.6087 104.34783"
      ]
     },
     "metadata": {},
     "output_type": "display_data"
    }
   ],
   "source": [
    "#11\n",
    "ct$observed\n",
    "ct$expected"
   ]
  },
  {
   "cell_type": "code",
   "execution_count": 96,
   "metadata": {},
   "outputs": [
    {
     "data": {
      "text/html": [
       "28.3621031746032"
      ],
      "text/latex": [
       "28.3621031746032"
      ],
      "text/markdown": [
       "28.3621031746032"
      ],
      "text/plain": [
       "[1] 28.3621"
      ]
     },
     "metadata": {},
     "output_type": "display_data"
    }
   ],
   "source": [
    "#12\n",
    "o = ct$observed\n",
    "e = ct$expected\n",
    "d = sum((o-e)^2/e)\n",
    "d"
   ]
  },
  {
   "cell_type": "code",
   "execution_count": 102,
   "metadata": {},
   "outputs": [
    {
     "data": {
      "text/html": [
       "<table class=\"dataframe\">\n",
       "<caption>A data.frame: 2 × 3</caption>\n",
       "<thead>\n",
       "\t<tr><th scope=col>X</th><th scope=col>Cold</th><th scope=col>NoCold</th></tr>\n",
       "\t<tr><th scope=col>&lt;chr&gt;</th><th scope=col>&lt;int&gt;</th><th scope=col>&lt;int&gt;</th></tr>\n",
       "</thead>\n",
       "<tbody>\n",
       "\t<tr><td>Placebo</td><td>335</td><td> 76</td></tr>\n",
       "\t<tr><td>VitC   </td><td>302</td><td>105</td></tr>\n",
       "</tbody>\n",
       "</table>\n"
      ],
      "text/latex": [
       "A data.frame: 2 × 3\n",
       "\\begin{tabular}{lll}\n",
       " X & Cold & NoCold\\\\\n",
       " <chr> & <int> & <int>\\\\\n",
       "\\hline\n",
       "\t Placebo & 335 &  76\\\\\n",
       "\t VitC    & 302 & 105\\\\\n",
       "\\end{tabular}\n"
      ],
      "text/markdown": [
       "\n",
       "A data.frame: 2 × 3\n",
       "\n",
       "| X &lt;chr&gt; | Cold &lt;int&gt; | NoCold &lt;int&gt; |\n",
       "|---|---|---|\n",
       "| Placebo | 335 |  76 |\n",
       "| VitC    | 302 | 105 |\n",
       "\n"
      ],
      "text/plain": [
       "  X       Cold NoCold\n",
       "1 Placebo 335   76   \n",
       "2 VitC    302  105   "
      ]
     },
     "metadata": {},
     "output_type": "display_data"
    }
   ],
   "source": [
    "#13\n",
    "donne = read.csv(\"/Users/whz/utc/2021.automne/SY02/cold.data\")\n",
    "donne"
   ]
  },
  {
   "cell_type": "code",
   "execution_count": 103,
   "metadata": {},
   "outputs": [
    {
     "ename": "ERROR",
     "evalue": "Error in chisq.test(donne): all entries of 'x' must be nonnegative and finite\n",
     "output_type": "error",
     "traceback": [
      "Error in chisq.test(donne): all entries of 'x' must be nonnegative and finite\nTraceback:\n",
      "1. chisq.test(donne)",
      "2. stop(\"all entries of 'x' must be nonnegative and finite\")"
     ]
    }
   ],
   "source": [
    "chisq.test(donne)"
   ]
  },
  {
   "cell_type": "code",
   "execution_count": null,
   "metadata": {},
   "outputs": [],
   "source": []
  }
 ],
 "metadata": {
  "kernelspec": {
   "display_name": "R",
   "language": "R",
   "name": "ir"
  },
  "language_info": {
   "codemirror_mode": "r",
   "file_extension": ".r",
   "mimetype": "text/x-r-source",
   "name": "R",
   "pygments_lexer": "r",
   "version": "4.1.1"
  },
  "orig_nbformat": 4
 },
 "nbformat": 4,
 "nbformat_minor": 2
}
