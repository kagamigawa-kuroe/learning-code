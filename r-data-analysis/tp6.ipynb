{
 "cells": [
  {
   "cell_type": "code",
   "execution_count": 24,
   "metadata": {},
   "outputs": [
    {
     "data": {
      "text/plain": [
       "\n",
       "\tOne Sample t-test\n",
       "\n",
       "data:  a\n",
       "t = -1.5205, df = 19, p-value = 0.07243\n",
       "alternative hypothesis: true mean is less than 500\n",
       "90 percent confidence interval:\n",
       "     -Inf 498.9315\n",
       "sample estimates:\n",
       "mean of x \n",
       " 491.5705 \n"
      ]
     },
     "metadata": {},
     "output_type": "display_data"
    },
    {
     "data": {
      "text/plain": [
       "\n",
       "\tOne Sample t-test\n",
       "\n",
       "data:  a\n",
       "t = -1.5205, df = 19, p-value = 0.07243\n",
       "alternative hypothesis: true mean is less than 500\n",
       "95 percent confidence interval:\n",
       "     -Inf 501.1569\n",
       "sample estimates:\n",
       "mean of x \n",
       " 491.5705 \n"
      ]
     },
     "metadata": {},
     "output_type": "display_data"
    }
   ],
   "source": [
    "#1\n",
    "a = read.csv(\"/Users/whz/utc/2021.automne/SY02/bottles.data\")\n",
    "t.test(a,mu = 500,alternative=\"less\",conf.level=0.9)\n",
    "t.test(a,mu = 500,alternative=\"less\",conf.level=0.95)"
   ]
  },
  {
   "cell_type": "code",
   "execution_count": 34,
   "metadata": {},
   "outputs": [
    {
     "data": {
      "text/html": [
       "<table class=\"dataframe\">\n",
       "<caption>A data.frame: 1 × 6</caption>\n",
       "<thead>\n",
       "\t<tr><th scope=col>Red</th><th scope=col>Green</th><th scope=col>Blue</th><th scope=col>Orange</th><th scope=col>Yellow</th><th scope=col>Brown</th></tr>\n",
       "\t<tr><th scope=col>&lt;int&gt;</th><th scope=col>&lt;int&gt;</th><th scope=col>&lt;int&gt;</th><th scope=col>&lt;int&gt;</th><th scope=col>&lt;int&gt;</th><th scope=col>&lt;int&gt;</th></tr>\n",
       "</thead>\n",
       "<tbody>\n",
       "\t<tr><td>288</td><td>222</td><td>217</td><td>199</td><td>413</td><td>374</td></tr>\n",
       "</tbody>\n",
       "</table>\n"
      ],
      "text/latex": [
       "A data.frame: 1 × 6\n",
       "\\begin{tabular}{llllll}\n",
       " Red & Green & Blue & Orange & Yellow & Brown\\\\\n",
       " <int> & <int> & <int> & <int> & <int> & <int>\\\\\n",
       "\\hline\n",
       "\t 288 & 222 & 217 & 199 & 413 & 374\\\\\n",
       "\\end{tabular}\n"
      ],
      "text/markdown": [
       "\n",
       "A data.frame: 1 × 6\n",
       "\n",
       "| Red &lt;int&gt; | Green &lt;int&gt; | Blue &lt;int&gt; | Orange &lt;int&gt; | Yellow &lt;int&gt; | Brown &lt;int&gt; |\n",
       "|---|---|---|---|---|---|\n",
       "| 288 | 222 | 217 | 199 | 413 | 374 |\n",
       "\n"
      ],
      "text/plain": [
       "  Red Green Blue Orange Yellow Brown\n",
       "1 288 222   217  199    413    374  "
      ]
     },
     "metadata": {},
     "output_type": "display_data"
    },
    {
     "data": {
      "text/plain": [
       "\n",
       "\t1-sample proportions test with continuity correction\n",
       "\n",
       "data:  a$Red out of 1713, null probability 1/6\n",
       "X-squared = 0.016813, df = 1, p-value = 0.8968\n",
       "alternative hypothesis: true p is not equal to 0.1666667\n",
       "95 percent confidence interval:\n",
       " 0.1508840 0.1868777\n",
       "sample estimates:\n",
       "        p \n",
       "0.1681261 \n"
      ]
     },
     "metadata": {},
     "output_type": "display_data"
    },
    {
     "data": {
      "text/plain": [
       "\n",
       "\t1-sample proportions test with continuity correction\n",
       "\n",
       "data:  a$Green out of 1713, null probability 1/6\n",
       "X-squared = 16.682, df = 1, p-value = 4.419e-05\n",
       "alternative hypothesis: true p is not equal to 0.1666667\n",
       "95 percent confidence interval:\n",
       " 0.1142414 0.1466409\n",
       "sample estimates:\n",
       "        p \n",
       "0.1295972 \n"
      ]
     },
     "metadata": {},
     "output_type": "display_data"
    },
    {
     "data": {
      "text/plain": [
       "\n",
       "\t1-sample proportions test with continuity correction\n",
       "\n",
       "data:  a$Blue out of 1713, null probability 1/6\n",
       "X-squared = 19.435, df = 1, p-value = 1.041e-05\n",
       "alternative hypothesis: true p is not equal to 0.1666667\n",
       "95 percent confidence interval:\n",
       " 0.1114824 0.1435758\n",
       "sample estimates:\n",
       "        p \n",
       "0.1266783 \n"
      ]
     },
     "metadata": {},
     "output_type": "display_data"
    },
    {
     "data": {
      "text/plain": [
       "\n",
       "\t1-sample proportions test with continuity correction\n",
       "\n",
       "data:  a$Orange out of 1713, null probability 1/6\n",
       "X-squared = 31.087, df = 1, p-value = 2.468e-08\n",
       "alternative hypothesis: true p is not equal to 0.1666667\n",
       "95 percent confidence interval:\n",
       " 0.1015732 0.1325184\n",
       "sample estimates:\n",
       "        p \n",
       "0.1161705 \n"
      ]
     },
     "metadata": {},
     "output_type": "display_data"
    },
    {
     "data": {
      "text/plain": [
       "\n",
       "\t1-sample proportions test with continuity correction\n",
       "\n",
       "data:  a$Yellow out of 1713, null probability 1/6\n",
       "X-squared = 67.793, df = 1, p-value < 2.2e-16\n",
       "alternative hypothesis: true p is not equal to 0.1666667\n",
       "95 percent confidence interval:\n",
       " 0.2211520 0.2622182\n",
       "sample estimates:\n",
       "        p \n",
       "0.2410975 \n"
      ]
     },
     "metadata": {},
     "output_type": "display_data"
    },
    {
     "data": {
      "text/plain": [
       "\n",
       "\t1-sample proportions test with continuity correction\n",
       "\n",
       "data:  a$Brown out of 1713, null probability 1/6\n",
       "X-squared = 32.549, df = 1, p-value = 1.162e-08\n",
       "alternative hypothesis: true p is not equal to 0.1666667\n",
       "95 percent confidence interval:\n",
       " 0.1991274 0.2388127\n",
       "sample estimates:\n",
       "        p \n",
       "0.2183304 \n"
      ]
     },
     "metadata": {},
     "output_type": "display_data"
    }
   ],
   "source": [
    "a = read.csv(\"/Users/whz/utc/2021.automne/SY02/MM.data\")\n",
    "a\n",
    "b = 1713/6\n",
    "prop.test(a$Red,1713,1/6)\n",
    "prop.test(a$Green,1713,1/6)\n",
    "prop.test(a$Blue,1713,1/6)\n",
    "prop.test(a$Orange,1713,1/6)\n",
    "prop.test(a$Yellow,1713,1/6)\n",
    "prop.test(a$Brown,1713,1/6)"
   ]
  },
  {
   "cell_type": "code",
   "execution_count": 36,
   "metadata": {},
   "outputs": [
    {
     "name": "stdout",
     "output_type": "stream",
     "text": [
      "\n",
      "The downloaded binary packages are in\n",
      "\t/var/folders/cn/8vhdhtd50yd2cnf2cm9nb2s40000gn/T//RtmpLqehrx/downloaded_packages\n"
     ]
    }
   ],
   "source": [
    "install.packages(\"isdals\")\n",
    "library(isdals)\n",
    "data(bodyfat)\n"
   ]
  },
  {
   "cell_type": "code",
   "execution_count": 37,
   "metadata": {},
   "outputs": [
    {
     "data": {
      "text/html": [
       "<table class=\"dataframe\">\n",
       "<caption>A data.frame: 6 × 4</caption>\n",
       "<thead>\n",
       "\t<tr><th></th><th scope=col>Fat</th><th scope=col>Triceps</th><th scope=col>Thigh</th><th scope=col>Midarm</th></tr>\n",
       "\t<tr><th></th><th scope=col>&lt;dbl&gt;</th><th scope=col>&lt;dbl&gt;</th><th scope=col>&lt;dbl&gt;</th><th scope=col>&lt;dbl&gt;</th></tr>\n",
       "</thead>\n",
       "<tbody>\n",
       "\t<tr><th scope=row>1</th><td>11.9</td><td>19.5</td><td>43.1</td><td>29.1</td></tr>\n",
       "\t<tr><th scope=row>2</th><td>22.8</td><td>24.7</td><td>49.8</td><td>28.2</td></tr>\n",
       "\t<tr><th scope=row>3</th><td>18.7</td><td>30.7</td><td>51.9</td><td>37.0</td></tr>\n",
       "\t<tr><th scope=row>4</th><td>20.1</td><td>29.8</td><td>54.3</td><td>31.1</td></tr>\n",
       "\t<tr><th scope=row>5</th><td>12.9</td><td>19.1</td><td>42.2</td><td>30.9</td></tr>\n",
       "\t<tr><th scope=row>6</th><td>21.7</td><td>25.6</td><td>53.9</td><td>23.7</td></tr>\n",
       "</tbody>\n",
       "</table>\n"
      ],
      "text/latex": [
       "A data.frame: 6 × 4\n",
       "\\begin{tabular}{r|llll}\n",
       "  & Fat & Triceps & Thigh & Midarm\\\\\n",
       "  & <dbl> & <dbl> & <dbl> & <dbl>\\\\\n",
       "\\hline\n",
       "\t1 & 11.9 & 19.5 & 43.1 & 29.1\\\\\n",
       "\t2 & 22.8 & 24.7 & 49.8 & 28.2\\\\\n",
       "\t3 & 18.7 & 30.7 & 51.9 & 37.0\\\\\n",
       "\t4 & 20.1 & 29.8 & 54.3 & 31.1\\\\\n",
       "\t5 & 12.9 & 19.1 & 42.2 & 30.9\\\\\n",
       "\t6 & 21.7 & 25.6 & 53.9 & 23.7\\\\\n",
       "\\end{tabular}\n"
      ],
      "text/markdown": [
       "\n",
       "A data.frame: 6 × 4\n",
       "\n",
       "| <!--/--> | Fat &lt;dbl&gt; | Triceps &lt;dbl&gt; | Thigh &lt;dbl&gt; | Midarm &lt;dbl&gt; |\n",
       "|---|---|---|---|---|\n",
       "| 1 | 11.9 | 19.5 | 43.1 | 29.1 |\n",
       "| 2 | 22.8 | 24.7 | 49.8 | 28.2 |\n",
       "| 3 | 18.7 | 30.7 | 51.9 | 37.0 |\n",
       "| 4 | 20.1 | 29.8 | 54.3 | 31.1 |\n",
       "| 5 | 12.9 | 19.1 | 42.2 | 30.9 |\n",
       "| 6 | 21.7 | 25.6 | 53.9 | 23.7 |\n",
       "\n"
      ],
      "text/plain": [
       "  Fat  Triceps Thigh Midarm\n",
       "1 11.9 19.5    43.1  29.1  \n",
       "2 22.8 24.7    49.8  28.2  \n",
       "3 18.7 30.7    51.9  37.0  \n",
       "4 20.1 29.8    54.3  31.1  \n",
       "5 12.9 19.1    42.2  30.9  \n",
       "6 21.7 25.6    53.9  23.7  "
      ]
     },
     "metadata": {},
     "output_type": "display_data"
    }
   ],
   "source": [
    "head(bodyfat)"
   ]
  },
  {
   "cell_type": "code",
   "execution_count": 38,
   "metadata": {},
   "outputs": [
    {
     "data": {
      "text/plain": [
       "\n",
       "Call:\n",
       "lm(formula = Fat ~ Thigh, data = bodyfat)\n",
       "\n",
       "Residuals:\n",
       "    Min      1Q  Median      3Q     Max \n",
       "-4.4949 -1.5671  0.1241  1.3362  4.4084 \n",
       "\n",
       "Coefficients:\n",
       "            Estimate Std. Error t value Pr(>|t|)    \n",
       "(Intercept) -23.6345     5.6574  -4.178 0.000566 ***\n",
       "Thigh         0.8565     0.1100   7.786  3.6e-07 ***\n",
       "---\n",
       "Signif. codes:  0 ‘***’ 0.001 ‘**’ 0.01 ‘*’ 0.05 ‘.’ 0.1 ‘ ’ 1\n",
       "\n",
       "Residual standard error: 2.51 on 18 degrees of freedom\n",
       "Multiple R-squared:  0.771,\tAdjusted R-squared:  0.7583 \n",
       "F-statistic: 60.62 on 1 and 18 DF,  p-value: 3.6e-07\n"
      ]
     },
     "metadata": {},
     "output_type": "display_data"
    }
   ],
   "source": [
    "a = lm(Fat~Thigh,data = bodyfat)\n",
    "summary(a)"
   ]
  },
  {
   "cell_type": "code",
   "execution_count": 44,
   "metadata": {},
   "outputs": [
    {
     "data": {
      "text/html": [
       "0.464444057612912"
      ],
      "text/latex": [
       "0.464444057612912"
      ],
      "text/markdown": [
       "0.464444057612912"
      ],
      "text/plain": [
       "[1] 0.4644441"
      ]
     },
     "metadata": {},
     "output_type": "display_data"
    }
   ],
   "source": [
    "sita0 = 10\n",
    "sita1 = 6\n",
    "x = c(16.9,1.1,0.2,4.5,6.2,19.0,1.0,0.2,0.1)\n",
    "a = prod(pexp(sita0,x))\n",
    "b = prod(pexp(sita1,x))\n",
    "b/a"
   ]
  },
  {
   "cell_type": "code",
   "execution_count": 57,
   "metadata": {},
   "outputs": [
    {
     "data": {
      "text/html": [
       "<strong>delai:</strong> 66.8019313528927"
      ],
      "text/latex": [
       "\\textbf{delai:} 66.8019313528927"
      ],
      "text/markdown": [
       "**delai:** 66.8019313528927"
      ],
      "text/plain": [
       "   delai \n",
       "66.80193 "
      ]
     },
     "metadata": {},
     "output_type": "display_data"
    }
   ],
   "source": [
    "a = read.csv(\"/Users/whz/utc/2021.automne/SY02/delai-data.data\")\n",
    "m = colMeans(a)"
   ]
  },
  {
   "cell_type": "code",
   "execution_count": null,
   "metadata": {},
   "outputs": [],
   "source": []
  }
 ],
 "metadata": {
  "kernelspec": {
   "display_name": "R",
   "language": "R",
   "name": "ir"
  },
  "language_info": {
   "codemirror_mode": "r",
   "file_extension": ".r",
   "mimetype": "text/x-r-source",
   "name": "R",
   "pygments_lexer": "r",
   "version": "4.1.1"
  },
  "orig_nbformat": 4
 },
 "nbformat": 4,
 "nbformat_minor": 2
}
